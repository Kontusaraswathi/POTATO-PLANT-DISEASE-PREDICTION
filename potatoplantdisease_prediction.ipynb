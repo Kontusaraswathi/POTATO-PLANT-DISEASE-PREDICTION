{
 "cells": [
  {
   "cell_type": "code",
   "execution_count": 13,
   "id": "e273db71-6721-475e-9a52-85a72ccac0c0",
   "metadata": {},
   "outputs": [],
   "source": [
    "import pandas as pd\n",
    "import tensorflow as tf\n",
    "from tensorflow import keras\n",
    "from tensorflow.keras.layers import Dense\n",
    "from tensorflow.keras.preprocessing.image import ImageDataGenerator\n",
    "from tensorflow.keras.layers import Conv2D,MaxPooling2D,Flatten,Dropout\n",
    "from tensorflow.keras.preprocessing.image import load_img, img_to_array"
   ]
  },
  {
   "cell_type": "code",
   "execution_count": 2,
   "id": "84d460dd-a53c-4863-a683-a870d9e24430",
   "metadata": {},
   "outputs": [],
   "source": [
    "train_dir=\"D:\\\\Deep_Learning\\\\potato_disease_prediction\\\\Potato\\\\Train\"\n",
    "val_dir=\"D:\\\\Deep_Learning\\\\potato_disease_prediction\\\\Potato\\\\Valid\""
   ]
  },
  {
   "cell_type": "code",
   "execution_count": 3,
   "id": "081bb9ee-3e83-4cef-8bae-37d6bf70f085",
   "metadata": {},
   "outputs": [],
   "source": [
    "# data augmentation and data normalization\n",
    "# data augmentation is for flipping the inages and to generate the more images from already existing images\n",
    "\n",
    "train_data= ImageDataGenerator(\n",
    "    rescale=1.0/255,\n",
    "    rotation_range=20,\n",
    "    width_shift_range=0.2,\n",
    "    height_shift_range=0.2,\n",
    "    shear_range=0.2,\n",
    "    zoom_range=0.2,\n",
    "    horizontal_flip=True\n",
    ")\n",
    "validation_data=ImageDataGenerator(rescale=1.0/255)"
   ]
  },
  {
   "cell_type": "code",
   "execution_count": 4,
   "id": "192344e4-8e4e-4041-9898-f7aef4cb2084",
   "metadata": {},
   "outputs": [
    {
     "name": "stdout",
     "output_type": "stream",
     "text": [
      "Found 900 images belonging to 3 classes.\n",
      "Found 300 images belonging to 3 classes.\n"
     ]
    }
   ],
   "source": [
    "train_data_generator=train_data.flow_from_directory(\n",
    "    train_dir,\n",
    "    target_size=(256,256),\n",
    "    batch_size=32,\n",
    "    class_mode=\"categorical\",\n",
    ")\n",
    "valid_data_generator=validation_data.flow_from_directory(\n",
    "    val_dir,\n",
    "    target_size=(256,256),\n",
    "    batch_size=32,\n",
    "    class_mode=\"categorical\"\n",
    ")"
   ]
  },
  {
   "cell_type": "code",
   "execution_count": 5,
   "id": "6d9143b9-ee20-4d56-a954-8f8be46199de",
   "metadata": {},
   "outputs": [
    {
     "name": "stderr",
     "output_type": "stream",
     "text": [
      "C:\\Users\\Dell\\AppData\\Local\\Programs\\Python\\Python311\\Lib\\site-packages\\keras\\src\\layers\\convolutional\\base_conv.py:107: UserWarning: Do not pass an `input_shape`/`input_dim` argument to a layer. When using Sequential models, prefer using an `Input(shape)` object as the first layer in the model instead.\n",
      "  super().__init__(activity_regularizer=activity_regularizer, **kwargs)\n"
     ]
    }
   ],
   "source": [
    "model=keras.Sequential([\n",
    "    Conv2D(32,(3,3),activation=\"relu\",input_shape=(256,256,3)),\n",
    "    MaxPooling2D(pool_size=(2,2)),\n",
    "    Conv2D(64,(3,3),activation=\"relu\"),\n",
    "    MaxPooling2D(pool_size=(2,2)),\n",
    "    Conv2D(128,(3,3),activation=\"relu\"),\n",
    "    MaxPooling2D(pool_size=(2,2)),\n",
    "    Flatten(),\n",
    "    Dense(128,activation=\"relu\"),\n",
    "    Dropout(0.5),\n",
    "    Dense(train_data_generator.num_classes,activation=\"softmax\"),\n",
    "])\n"
   ]
  },
  {
   "cell_type": "code",
   "execution_count": 6,
   "id": "97ed2694-7da7-481e-ae8e-b7850a14f393",
   "metadata": {},
   "outputs": [],
   "source": [
    "model.compile(optimizer=\"adam\",loss=\"categorical_crossentropy\",metrics=[\"accuracy\"])"
   ]
  },
  {
   "cell_type": "code",
   "execution_count": 7,
   "id": "da6ba5ec-70d4-44ac-a145-f1fedf2292a9",
   "metadata": {},
   "outputs": [
    {
     "name": "stdout",
     "output_type": "stream",
     "text": [
      "Epoch 1/5\n"
     ]
    },
    {
     "name": "stderr",
     "output_type": "stream",
     "text": [
      "C:\\Users\\Dell\\AppData\\Local\\Programs\\Python\\Python311\\Lib\\site-packages\\keras\\src\\trainers\\data_adapters\\py_dataset_adapter.py:121: UserWarning: Your `PyDataset` class should call `super().__init__(**kwargs)` in its constructor. `**kwargs` can include `workers`, `use_multiprocessing`, `max_queue_size`. Do not pass these arguments to `fit()`, as they will be ignored.\n",
      "  self._warn_if_super_not_called()\n"
     ]
    },
    {
     "name": "stdout",
     "output_type": "stream",
     "text": [
      "\u001b[1m29/29\u001b[0m \u001b[32m━━━━━━━━━━━━━━━━━━━━\u001b[0m\u001b[37m\u001b[0m \u001b[1m120s\u001b[0m 3s/step - accuracy: 0.3534 - loss: 2.1890 - val_accuracy: 0.5100 - val_loss: 0.9732\n",
      "Epoch 2/5\n",
      "\u001b[1m29/29\u001b[0m \u001b[32m━━━━━━━━━━━━━━━━━━━━\u001b[0m\u001b[37m\u001b[0m \u001b[1m91s\u001b[0m 3s/step - accuracy: 0.5105 - loss: 0.9491 - val_accuracy: 0.6900 - val_loss: 0.6518\n",
      "Epoch 3/5\n",
      "\u001b[1m29/29\u001b[0m \u001b[32m━━━━━━━━━━━━━━━━━━━━\u001b[0m\u001b[37m\u001b[0m \u001b[1m87s\u001b[0m 3s/step - accuracy: 0.7288 - loss: 0.5999 - val_accuracy: 0.7900 - val_loss: 0.4551\n",
      "Epoch 4/5\n",
      "\u001b[1m29/29\u001b[0m \u001b[32m━━━━━━━━━━━━━━━━━━━━\u001b[0m\u001b[37m\u001b[0m \u001b[1m89s\u001b[0m 3s/step - accuracy: 0.8042 - loss: 0.4063 - val_accuracy: 0.6467 - val_loss: 1.7306\n",
      "Epoch 5/5\n",
      "\u001b[1m29/29\u001b[0m \u001b[32m━━━━━━━━━━━━━━━━━━━━\u001b[0m\u001b[37m\u001b[0m \u001b[1m91s\u001b[0m 3s/step - accuracy: 0.8534 - loss: 0.3778 - val_accuracy: 0.8533 - val_loss: 0.3328\n"
     ]
    }
   ],
   "source": [
    "history= model.fit(\n",
    "    train_data_generator,\n",
    "    epochs=5,\n",
    "    validation_data=valid_data_generator,\n",
    "    verbose=1,\n",
    ")"
   ]
  },
  {
   "cell_type": "code",
   "execution_count": 8,
   "id": "d64e6bd8-cf5e-4988-aebe-361360ed83f4",
   "metadata": {},
   "outputs": [
    {
     "name": "stdout",
     "output_type": "stream",
     "text": [
      "\u001b[1m10/10\u001b[0m \u001b[32m━━━━━━━━━━━━━━━━━━━━\u001b[0m\u001b[37m\u001b[0m \u001b[1m7s\u001b[0m 675ms/step - accuracy: 0.8489 - loss: 0.3499\n",
      "[0.3328244984149933, 0.8533333539962769]\n"
     ]
    }
   ],
   "source": [
    "print(model.evaluate(valid_data_generator))"
   ]
  },
  {
   "cell_type": "code",
   "execution_count": 9,
   "id": "d68e4fe8-5a99-4cff-9c94-e48bf567a10e",
   "metadata": {},
   "outputs": [],
   "source": [
    "class_indices={\n",
    "    0:\"Healthy\",\n",
    "    1:\"Late_blight\",\n",
    "    2:\"Early_blight\",\n",
    "}\n"
   ]
  },
  {
   "cell_type": "code",
   "execution_count": 17,
   "id": "0f0e836e-af4d-4978-9f0d-81bc2adc8f08",
   "metadata": {},
   "outputs": [],
   "source": [
    "img_path=\"D:\\\\potato.jpg\" \n"
   ]
  },
  {
   "cell_type": "code",
   "execution_count": 19,
   "id": "68b15da8-4ed6-4069-97fc-c447045f2c79",
   "metadata": {},
   "outputs": [],
   "source": [
    "import numpy as np"
   ]
  },
  {
   "cell_type": "code",
   "execution_count": 20,
   "id": "cdeeba39-9482-45e8-848f-1e7eb42ad6b0",
   "metadata": {},
   "outputs": [],
   "source": [
    "img=load_img(img_path,target_size=(256,256))\n",
    "img_array=img_to_array(img)/255.0\n",
    "img_array = np.expand_dims(img_array, axis=0)  "
   ]
  },
  {
   "cell_type": "code",
   "execution_count": 22,
   "id": "7607fbc1-f08e-429b-93e8-a449ada11159",
   "metadata": {},
   "outputs": [
    {
     "name": "stdout",
     "output_type": "stream",
     "text": [
      "\u001b[1m1/1\u001b[0m \u001b[32m━━━━━━━━━━━━━━━━━━━━\u001b[0m\u001b[37m\u001b[0m \u001b[1m0s\u001b[0m 107ms/step\n"
     ]
    }
   ],
   "source": [
    "predictions=model.predict(img_array)\n",
    "predicted_index=np.argmax(predictions,axis=1)[0]\n",
    "label=class_indices[predicted_index]"
   ]
  },
  {
   "cell_type": "code",
   "execution_count": null,
   "id": "7f4b67ed",
   "metadata": {},
   "outputs": [],
   "source": []
  },
  {
   "cell_type": "code",
   "execution_count": 23,
   "id": "a1cc7f0d-c1b1-4e2c-9f73-8c48a0e1be8c",
   "metadata": {},
   "outputs": [
    {
     "data": {
      "text/plain": [
       "'Late_blight'"
      ]
     },
     "execution_count": 23,
     "metadata": {},
     "output_type": "execute_result"
    }
   ],
   "source": [
    "label"
   ]
  },
  {
   "cell_type": "code",
   "execution_count": null,
   "id": "7a8e72e1-8d85-4753-ab57-d7d46ab28da0",
   "metadata": {},
   "outputs": [],
   "source": []
  },
  {
   "cell_type": "code",
   "execution_count": null,
   "id": "345f5cb7-32ec-4fcf-8530-eace5b40fc65",
   "metadata": {},
   "outputs": [],
   "source": []
  },
  {
   "cell_type": "code",
   "execution_count": null,
   "id": "b2afb305-ccb6-45f4-b928-9139943ffb33",
   "metadata": {},
   "outputs": [],
   "source": []
  },
  {
   "cell_type": "code",
   "execution_count": null,
   "id": "9119586f-7ad8-4812-88bf-d1990a164fb0",
   "metadata": {},
   "outputs": [],
   "source": []
  },
  {
   "cell_type": "code",
   "execution_count": null,
   "id": "0d4d864f-5d6f-471e-9a8b-ab4dce1177bd",
   "metadata": {},
   "outputs": [],
   "source": []
  },
  {
   "cell_type": "code",
   "execution_count": null,
   "id": "e1f4c113-3cdb-4e94-97b7-8aa958551ec5",
   "metadata": {},
   "outputs": [],
   "source": []
  }
 ],
 "metadata": {
  "kernelspec": {
   "display_name": "Python 3 (ipykernel)",
   "language": "python",
   "name": "python3"
  },
  "language_info": {
   "codemirror_mode": {
    "name": "ipython",
    "version": 3
   },
   "file_extension": ".py",
   "mimetype": "text/x-python",
   "name": "python",
   "nbconvert_exporter": "python",
   "pygments_lexer": "ipython3",
   "version": "3.11.9"
  }
 },
 "nbformat": 4,
 "nbformat_minor": 5
}
